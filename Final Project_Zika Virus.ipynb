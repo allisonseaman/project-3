{
 "cells": [
  {
   "cell_type": "code",
   "execution_count": 1,
   "metadata": {},
   "outputs": [
    {
     "data": {
      "text/html": [
       "        <script type=\"text/javascript\">\n",
       "        window.PlotlyConfig = {MathJaxConfig: 'local'};\n",
       "        if (window.MathJax) {MathJax.Hub.Config({SVG: {font: \"STIX-Web\"}});}\n",
       "        if (typeof require !== 'undefined') {\n",
       "        require.undef(\"plotly\");\n",
       "        requirejs.config({\n",
       "            paths: {\n",
       "                'plotly': ['https://cdn.plot.ly/plotly-latest.min']\n",
       "            }\n",
       "        });\n",
       "        require(['plotly'], function(Plotly) {\n",
       "            window._Plotly = Plotly;\n",
       "        });\n",
       "        }\n",
       "        </script>\n",
       "        "
      ]
     },
     "metadata": {},
     "output_type": "display_data"
    }
   ],
   "source": [
    "import numpy as np \n",
    "import pandas as pd \n",
    "import os\n",
    "\n",
    "import matplotlib.pyplot as plt\n",
    "%matplotlib inline\n",
    "import seaborn as sns\n",
    "sns.set()\n",
    "from plotly.offline import init_notebook_mode, iplot \n",
    "import plotly.graph_objs as go\n",
    "import plotly.offline as py\n",
    "import pycountry\n",
    "py.init_notebook_mode(connected=True)\n",
    "import folium \n",
    "from folium import plugins\n",
    "\n",
    "%config InlineBackend.figure_format = 'retina' \n",
    "\n",
    "plt.rcParams['figure.figsize'] = 8, 5\n",
    "\n",
    "import warnings\n",
    "warnings.filterwarnings('ignore')"
   ]
  },
  {
   "cell_type": "code",
   "execution_count": 2,
   "metadata": {},
   "outputs": [
    {
     "data": {
      "text/html": [
       "<div>\n",
       "<style scoped>\n",
       "    .dataframe tbody tr th:only-of-type {\n",
       "        vertical-align: middle;\n",
       "    }\n",
       "\n",
       "    .dataframe tbody tr th {\n",
       "        vertical-align: top;\n",
       "    }\n",
       "\n",
       "    .dataframe thead th {\n",
       "        text-align: right;\n",
       "    }\n",
       "</style>\n",
       "<table border=\"1\" class=\"dataframe\">\n",
       "  <thead>\n",
       "    <tr style=\"text-align: right;\">\n",
       "      <th></th>\n",
       "      <th>Last Update</th>\n",
       "      <th>Country</th>\n",
       "      <th>Province/State</th>\n",
       "      <th>Confirmed</th>\n",
       "    </tr>\n",
       "  </thead>\n",
       "  <tbody>\n",
       "    <tr>\n",
       "      <td>0</td>\n",
       "      <td>3/19/2016</td>\n",
       "      <td>Argentina</td>\n",
       "      <td>Buenos Aires</td>\n",
       "      <td>2</td>\n",
       "    </tr>\n",
       "    <tr>\n",
       "      <td>1</td>\n",
       "      <td>3/19/2016</td>\n",
       "      <td>Argentina</td>\n",
       "      <td>Buenos Aires</td>\n",
       "      <td>1</td>\n",
       "    </tr>\n",
       "    <tr>\n",
       "      <td>2</td>\n",
       "      <td>3/19/2016</td>\n",
       "      <td>Argentina</td>\n",
       "      <td>Buenos Aires</td>\n",
       "      <td>127</td>\n",
       "    </tr>\n",
       "    <tr>\n",
       "      <td>3</td>\n",
       "      <td>3/19/2016</td>\n",
       "      <td>Argentina</td>\n",
       "      <td>CABA</td>\n",
       "      <td>9</td>\n",
       "    </tr>\n",
       "    <tr>\n",
       "      <td>4</td>\n",
       "      <td>3/19/2016</td>\n",
       "      <td>Argentina</td>\n",
       "      <td>CABA</td>\n",
       "      <td>68</td>\n",
       "    </tr>\n",
       "  </tbody>\n",
       "</table>\n",
       "</div>"
      ],
      "text/plain": [
       "  Last Update    Country Province/State  Confirmed\n",
       "0   3/19/2016  Argentina   Buenos Aires          2\n",
       "1   3/19/2016  Argentina   Buenos Aires          1\n",
       "2   3/19/2016  Argentina   Buenos Aires        127\n",
       "3   3/19/2016  Argentina           CABA          9\n",
       "4   3/19/2016  Argentina           CABA         68"
      ]
     },
     "execution_count": 2,
     "metadata": {},
     "output_type": "execute_result"
    }
   ],
   "source": [
    "data_zika= pd.read_csv(\"final_clean_zika.csv\",)\n",
    "data_zika.head()"
   ]
  },
  {
   "cell_type": "code",
   "execution_count": 3,
   "metadata": {},
   "outputs": [
    {
     "data": {
      "text/html": [
       "<div>\n",
       "<style scoped>\n",
       "    .dataframe tbody tr th:only-of-type {\n",
       "        vertical-align: middle;\n",
       "    }\n",
       "\n",
       "    .dataframe tbody tr th {\n",
       "        vertical-align: top;\n",
       "    }\n",
       "\n",
       "    .dataframe thead th {\n",
       "        text-align: right;\n",
       "    }\n",
       "</style>\n",
       "<table border=\"1\" class=\"dataframe\">\n",
       "  <thead>\n",
       "    <tr style=\"text-align: right;\">\n",
       "      <th></th>\n",
       "      <th>Last Update</th>\n",
       "      <th>Country</th>\n",
       "      <th>Province/State</th>\n",
       "      <th>Confirmed</th>\n",
       "    </tr>\n",
       "  </thead>\n",
       "  <tbody>\n",
       "    <tr>\n",
       "      <td>0</td>\n",
       "      <td>2016-03-19</td>\n",
       "      <td>Argentina</td>\n",
       "      <td>Buenos Aires</td>\n",
       "      <td>2</td>\n",
       "    </tr>\n",
       "    <tr>\n",
       "      <td>1</td>\n",
       "      <td>2016-03-19</td>\n",
       "      <td>Argentina</td>\n",
       "      <td>Buenos Aires</td>\n",
       "      <td>1</td>\n",
       "    </tr>\n",
       "    <tr>\n",
       "      <td>2</td>\n",
       "      <td>2016-03-19</td>\n",
       "      <td>Argentina</td>\n",
       "      <td>Buenos Aires</td>\n",
       "      <td>127</td>\n",
       "    </tr>\n",
       "    <tr>\n",
       "      <td>3</td>\n",
       "      <td>2016-03-19</td>\n",
       "      <td>Argentina</td>\n",
       "      <td>CABA</td>\n",
       "      <td>9</td>\n",
       "    </tr>\n",
       "    <tr>\n",
       "      <td>4</td>\n",
       "      <td>2016-03-19</td>\n",
       "      <td>Argentina</td>\n",
       "      <td>CABA</td>\n",
       "      <td>68</td>\n",
       "    </tr>\n",
       "  </tbody>\n",
       "</table>\n",
       "</div>"
      ],
      "text/plain": [
       "  Last Update    Country Province/State  Confirmed\n",
       "0  2016-03-19  Argentina   Buenos Aires          2\n",
       "1  2016-03-19  Argentina   Buenos Aires          1\n",
       "2  2016-03-19  Argentina   Buenos Aires        127\n",
       "3  2016-03-19  Argentina           CABA          9\n",
       "4  2016-03-19  Argentina           CABA         68"
      ]
     },
     "execution_count": 3,
     "metadata": {},
     "output_type": "execute_result"
    }
   ],
   "source": [
    "data_zika['Last Update'] = data_zika['Last Update'].apply(pd.to_datetime)\n",
    "data_zika.head()"
   ]
  },
  {
   "cell_type": "code",
   "execution_count": 4,
   "metadata": {},
   "outputs": [
    {
     "name": "stdout",
     "output_type": "stream",
     "text": [
      "['Argentina', 'Brazil', 'Norte', 'Nordeste', 'Sudeste', 'Sul', 'Centro', 'Colombia']\n"
     ]
    }
   ],
   "source": [
    "countries_zika = data_zika['Country'].unique().tolist()\n",
    "print(countries_zika)"
   ]
  },
  {
   "cell_type": "code",
   "execution_count": 5,
   "metadata": {},
   "outputs": [
    {
     "name": "stdout",
     "output_type": "stream",
     "text": [
      "Total countries affected by Zika Virus: 8\n"
     ]
    }
   ],
   "source": [
    "print(f\"Total countries affected by Zika Virus: {len(countries_zika)}\")"
   ]
  },
  {
   "cell_type": "code",
   "execution_count": 6,
   "metadata": {},
   "outputs": [
    {
     "data": {
      "text/html": [
       "<div>\n",
       "<style scoped>\n",
       "    .dataframe tbody tr th:only-of-type {\n",
       "        vertical-align: middle;\n",
       "    }\n",
       "\n",
       "    .dataframe tbody tr th {\n",
       "        vertical-align: top;\n",
       "    }\n",
       "\n",
       "    .dataframe thead th {\n",
       "        text-align: right;\n",
       "    }\n",
       "</style>\n",
       "<table border=\"1\" class=\"dataframe\">\n",
       "  <thead>\n",
       "    <tr style=\"text-align: right;\">\n",
       "      <th></th>\n",
       "      <th>Last Update</th>\n",
       "      <th>Country</th>\n",
       "      <th>Province/State</th>\n",
       "      <th>Confirmed</th>\n",
       "    </tr>\n",
       "  </thead>\n",
       "  <tbody>\n",
       "    <tr>\n",
       "      <td>0</td>\n",
       "      <td>2016-03-19</td>\n",
       "      <td>Argentina</td>\n",
       "      <td>Buenos Aires</td>\n",
       "      <td>2</td>\n",
       "    </tr>\n",
       "    <tr>\n",
       "      <td>1</td>\n",
       "      <td>2016-03-19</td>\n",
       "      <td>Argentina</td>\n",
       "      <td>Buenos Aires</td>\n",
       "      <td>1</td>\n",
       "    </tr>\n",
       "    <tr>\n",
       "      <td>2</td>\n",
       "      <td>2016-03-19</td>\n",
       "      <td>Argentina</td>\n",
       "      <td>Buenos Aires</td>\n",
       "      <td>127</td>\n",
       "    </tr>\n",
       "    <tr>\n",
       "      <td>3</td>\n",
       "      <td>2016-03-19</td>\n",
       "      <td>Argentina</td>\n",
       "      <td>CABA</td>\n",
       "      <td>9</td>\n",
       "    </tr>\n",
       "    <tr>\n",
       "      <td>4</td>\n",
       "      <td>2016-03-19</td>\n",
       "      <td>Argentina</td>\n",
       "      <td>CABA</td>\n",
       "      <td>68</td>\n",
       "    </tr>\n",
       "  </tbody>\n",
       "</table>\n",
       "</div>"
      ],
      "text/plain": [
       "  Last Update    Country Province/State  Confirmed\n",
       "0  2016-03-19  Argentina   Buenos Aires          2\n",
       "1  2016-03-19  Argentina   Buenos Aires          1\n",
       "2  2016-03-19  Argentina   Buenos Aires        127\n",
       "3  2016-03-19  Argentina           CABA          9\n",
       "4  2016-03-19  Argentina           CABA         68"
      ]
     },
     "execution_count": 6,
     "metadata": {},
     "output_type": "execute_result"
    }
   ],
   "source": [
    "from datetime import date\n",
    "data_date_zika = data_zika[data_zika['Last Update'] > pd.Timestamp(date(2016,1,1))]\n",
    "data_date_zika['Confirmed'] = pd.to_numeric(data_date_zika['Confirmed'])\n",
    "data_date_zika.head()"
   ]
  },
  {
   "cell_type": "code",
   "execution_count": 7,
   "metadata": {},
   "outputs": [
    {
     "data": {
      "text/plain": [
       "Last Update       datetime64[ns]\n",
       "Country                   object\n",
       "Province/State            object\n",
       "Confirmed                  int64\n",
       "dtype: object"
      ]
     },
     "execution_count": 7,
     "metadata": {},
     "output_type": "execute_result"
    }
   ],
   "source": [
    "data_date_zika.dtypes"
   ]
  },
  {
   "cell_type": "code",
   "execution_count": 8,
   "metadata": {
    "scrolled": true
   },
   "outputs": [
    {
     "data": {
      "text/html": [
       "<div>\n",
       "<style scoped>\n",
       "    .dataframe tbody tr th:only-of-type {\n",
       "        vertical-align: middle;\n",
       "    }\n",
       "\n",
       "    .dataframe tbody tr th {\n",
       "        vertical-align: top;\n",
       "    }\n",
       "\n",
       "    .dataframe thead th {\n",
       "        text-align: right;\n",
       "    }\n",
       "</style>\n",
       "<table border=\"1\" class=\"dataframe\">\n",
       "  <thead>\n",
       "    <tr style=\"text-align: right;\">\n",
       "      <th></th>\n",
       "      <th>Confirmed</th>\n",
       "    </tr>\n",
       "    <tr>\n",
       "      <th>Country</th>\n",
       "      <th></th>\n",
       "    </tr>\n",
       "  </thead>\n",
       "  <tbody>\n",
       "    <tr>\n",
       "      <td>Argentina</td>\n",
       "      <td>21826</td>\n",
       "    </tr>\n",
       "    <tr>\n",
       "      <td>Brazil</td>\n",
       "      <td>2703393</td>\n",
       "    </tr>\n",
       "    <tr>\n",
       "      <td>Centro</td>\n",
       "      <td>254</td>\n",
       "    </tr>\n",
       "    <tr>\n",
       "      <td>Colombia</td>\n",
       "      <td>198396</td>\n",
       "    </tr>\n",
       "    <tr>\n",
       "      <td>Nordeste</td>\n",
       "      <td>236246</td>\n",
       "    </tr>\n",
       "    <tr>\n",
       "      <td>Norte</td>\n",
       "      <td>559</td>\n",
       "    </tr>\n",
       "    <tr>\n",
       "      <td>Sudeste</td>\n",
       "      <td>2639</td>\n",
       "    </tr>\n",
       "    <tr>\n",
       "      <td>Sul</td>\n",
       "      <td>25511</td>\n",
       "    </tr>\n",
       "  </tbody>\n",
       "</table>\n",
       "</div>"
      ],
      "text/plain": [
       "           Confirmed\n",
       "Country             \n",
       "Argentina      21826\n",
       "Brazil       2703393\n",
       "Centro           254\n",
       "Colombia      198396\n",
       "Nordeste      236246\n",
       "Norte            559\n",
       "Sudeste         2639\n",
       "Sul            25511"
      ]
     },
     "execution_count": 8,
     "metadata": {},
     "output_type": "execute_result"
    }
   ],
   "source": [
    "cases_zika = pd.DataFrame(data_date_zika.groupby('Country').sum()['Confirmed'])\n",
    "cases_zika.reset_index()\n",
    "cases_zika"
   ]
  },
  {
   "cell_type": "code",
   "execution_count": 9,
   "metadata": {},
   "outputs": [
    {
     "data": {
      "text/html": [
       "<div>\n",
       "<style scoped>\n",
       "    .dataframe tbody tr th:only-of-type {\n",
       "        vertical-align: middle;\n",
       "    }\n",
       "\n",
       "    .dataframe tbody tr th {\n",
       "        vertical-align: top;\n",
       "    }\n",
       "\n",
       "    .dataframe thead th {\n",
       "        text-align: right;\n",
       "    }\n",
       "</style>\n",
       "<table border=\"1\" class=\"dataframe\">\n",
       "  <thead>\n",
       "    <tr style=\"text-align: right;\">\n",
       "      <th></th>\n",
       "      <th>Confirmed</th>\n",
       "      <th>Country</th>\n",
       "    </tr>\n",
       "  </thead>\n",
       "  <tbody>\n",
       "    <tr>\n",
       "      <td>1</td>\n",
       "      <td>21826</td>\n",
       "      <td>Argentina</td>\n",
       "    </tr>\n",
       "    <tr>\n",
       "      <td>2</td>\n",
       "      <td>2703393</td>\n",
       "      <td>Brazil</td>\n",
       "    </tr>\n",
       "    <tr>\n",
       "      <td>3</td>\n",
       "      <td>254</td>\n",
       "      <td>Centro</td>\n",
       "    </tr>\n",
       "    <tr>\n",
       "      <td>4</td>\n",
       "      <td>198396</td>\n",
       "      <td>Colombia</td>\n",
       "    </tr>\n",
       "    <tr>\n",
       "      <td>5</td>\n",
       "      <td>236246</td>\n",
       "      <td>Nordeste</td>\n",
       "    </tr>\n",
       "    <tr>\n",
       "      <td>6</td>\n",
       "      <td>559</td>\n",
       "      <td>Norte</td>\n",
       "    </tr>\n",
       "    <tr>\n",
       "      <td>7</td>\n",
       "      <td>2639</td>\n",
       "      <td>Sudeste</td>\n",
       "    </tr>\n",
       "    <tr>\n",
       "      <td>8</td>\n",
       "      <td>25511</td>\n",
       "      <td>Sul</td>\n",
       "    </tr>\n",
       "  </tbody>\n",
       "</table>\n",
       "</div>"
      ],
      "text/plain": [
       "   Confirmed    Country\n",
       "1      21826  Argentina\n",
       "2    2703393     Brazil\n",
       "3        254     Centro\n",
       "4     198396   Colombia\n",
       "5     236246   Nordeste\n",
       "6        559      Norte\n",
       "7       2639    Sudeste\n",
       "8      25511        Sul"
      ]
     },
     "execution_count": 9,
     "metadata": {},
     "output_type": "execute_result"
    }
   ],
   "source": [
    "cases_zika['Country'] = cases_zika.index\n",
    "cases_zika.index=np.arange(1,9)\n",
    "cases_zika"
   ]
  },
  {
   "cell_type": "code",
   "execution_count": 10,
   "metadata": {},
   "outputs": [
    {
     "data": {
      "text/html": [
       "<div>\n",
       "<style scoped>\n",
       "    .dataframe tbody tr th:only-of-type {\n",
       "        vertical-align: middle;\n",
       "    }\n",
       "\n",
       "    .dataframe tbody tr th {\n",
       "        vertical-align: top;\n",
       "    }\n",
       "\n",
       "    .dataframe thead th {\n",
       "        text-align: right;\n",
       "    }\n",
       "</style>\n",
       "<table border=\"1\" class=\"dataframe\">\n",
       "  <thead>\n",
       "    <tr style=\"text-align: right;\">\n",
       "      <th></th>\n",
       "      <th>Country</th>\n",
       "      <th>Confirmed</th>\n",
       "    </tr>\n",
       "  </thead>\n",
       "  <tbody>\n",
       "    <tr>\n",
       "      <td>1</td>\n",
       "      <td>Argentina</td>\n",
       "      <td>21826</td>\n",
       "    </tr>\n",
       "    <tr>\n",
       "      <td>2</td>\n",
       "      <td>Brazil</td>\n",
       "      <td>2703393</td>\n",
       "    </tr>\n",
       "    <tr>\n",
       "      <td>3</td>\n",
       "      <td>Centro</td>\n",
       "      <td>254</td>\n",
       "    </tr>\n",
       "    <tr>\n",
       "      <td>4</td>\n",
       "      <td>Colombia</td>\n",
       "      <td>198396</td>\n",
       "    </tr>\n",
       "    <tr>\n",
       "      <td>5</td>\n",
       "      <td>Nordeste</td>\n",
       "      <td>236246</td>\n",
       "    </tr>\n",
       "    <tr>\n",
       "      <td>6</td>\n",
       "      <td>Norte</td>\n",
       "      <td>559</td>\n",
       "    </tr>\n",
       "    <tr>\n",
       "      <td>7</td>\n",
       "      <td>Sudeste</td>\n",
       "      <td>2639</td>\n",
       "    </tr>\n",
       "    <tr>\n",
       "      <td>8</td>\n",
       "      <td>Sul</td>\n",
       "      <td>25511</td>\n",
       "    </tr>\n",
       "  </tbody>\n",
       "</table>\n",
       "</div>"
      ],
      "text/plain": [
       "     Country  Confirmed\n",
       "1  Argentina      21826\n",
       "2     Brazil    2703393\n",
       "3     Centro        254\n",
       "4   Colombia     198396\n",
       "5   Nordeste     236246\n",
       "6      Norte        559\n",
       "7    Sudeste       2639\n",
       "8        Sul      25511"
      ]
     },
     "execution_count": 10,
     "metadata": {},
     "output_type": "execute_result"
    }
   ],
   "source": [
    "global_cases_zika = cases_zika[['Country','Confirmed']]\n",
    "global_cases_zika"
   ]
  },
  {
   "cell_type": "code",
   "execution_count": 13,
   "metadata": {},
   "outputs": [
    {
     "data": {
      "text/html": [
       "<div style=\"width:100%;\"><div style=\"position:relative;width:100%;height:0;padding-bottom:60%;\"><iframe src=\"data:text/html;charset=utf-8;base64,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\" style=\"position:absolute;width:100%;height:100%;left:0;top:0;border:none !important;\" allowfullscreen webkitallowfullscreen mozallowfullscreen></iframe></div></div>"
      ],
      "text/plain": [
       "<folium.folium.Map at 0x1a8d4dd9860>"
      ]
     },
     "execution_count": 13,
     "metadata": {},
     "output_type": "execute_result"
    }
   ],
   "source": [
    "world_data_zika = pd.DataFrame({\n",
    "   'name':list(global_cases_zika['Country']),\n",
    "    'lat':[-38.4161, -14.2350,-5.402580, -10.0626, -25.4342, -4.5709, -22.9071, -20.3332],\n",
    "   'lon':[-63.6167, -51.9253, -36.954105, -42.5510, -49.2663, -74.2973, -43.1819, -46.2092],\n",
    "   'Confirmed':list(global_cases_zika['Confirmed']),\n",
    "})\n",
    "\n",
    "world_map = folium.Map(location=[10, -20], zoom_start=2.3,tiles='Stamen Toner')\n",
    "\n",
    "for lat, lon, value, name in zip(world_data_zika['lat'], world_data_zika['lon'], world_data_zika['Confirmed'], \n",
    "                                 world_data_zika['name']):\n",
    "    folium.CircleMarker([lat, lon],\n",
    "                        radius=10,\n",
    "                        popup = ('<strong>Country</strong>: ' + str(name).capitalize() + '<br>'\n",
    "                                '<strong>Confirmed Cases on January 9, 2016</strong>: ' + str(value) + '<br>'),\n",
    "                        color='red',\n",
    "                        \n",
    "                        fill_color='red',\n",
    "                        fill_opacity=0.7 ).add_to(world_map)\n",
    "world_map"
   ]
  },
  {
   "cell_type": "code",
   "execution_count": 23,
   "metadata": {},
   "outputs": [
    {
     "name": "stdout",
     "output_type": "stream",
     "text": [
      "Total Confirmed Zika Cases: 3188824\n"
     ]
    }
   ],
   "source": [
    "print(f\"Total Confirmed Zika Cases: {data_date_zika['Confirmed'].sum()}\")\n"
   ]
  },
  {
   "cell_type": "code",
   "execution_count": 24,
   "metadata": {},
   "outputs": [
    {
     "data": {
      "text/html": [
       "<div>\n",
       "<style scoped>\n",
       "    .dataframe tbody tr th:only-of-type {\n",
       "        vertical-align: middle;\n",
       "    }\n",
       "\n",
       "    .dataframe tbody tr th {\n",
       "        vertical-align: top;\n",
       "    }\n",
       "\n",
       "    .dataframe thead th {\n",
       "        text-align: right;\n",
       "    }\n",
       "</style>\n",
       "<table border=\"1\" class=\"dataframe\">\n",
       "  <thead>\n",
       "    <tr style=\"text-align: right;\">\n",
       "      <th></th>\n",
       "      <th></th>\n",
       "      <th>Confirmed</th>\n",
       "    </tr>\n",
       "    <tr>\n",
       "      <th>Country</th>\n",
       "      <th>Province/State</th>\n",
       "      <th></th>\n",
       "    </tr>\n",
       "  </thead>\n",
       "  <tbody>\n",
       "    <tr>\n",
       "      <td rowspan=\"5\" valign=\"top\">Argentina</td>\n",
       "      <td>Buenos Aires</td>\n",
       "      <td>130</td>\n",
       "    </tr>\n",
       "    <tr>\n",
       "      <td>Buenos_Aires</td>\n",
       "      <td>3149</td>\n",
       "    </tr>\n",
       "    <tr>\n",
       "      <td>CABA</td>\n",
       "      <td>1899</td>\n",
       "    </tr>\n",
       "    <tr>\n",
       "      <td>Catamarca</td>\n",
       "      <td>212</td>\n",
       "    </tr>\n",
       "    <tr>\n",
       "      <td>Chaco</td>\n",
       "      <td>1017</td>\n",
       "    </tr>\n",
       "    <tr>\n",
       "      <td>...</td>\n",
       "      <td>...</td>\n",
       "      <td>...</td>\n",
       "    </tr>\n",
       "    <tr>\n",
       "      <td rowspan=\"5\" valign=\"top\">Sul</td>\n",
       "      <td>Atlantico</td>\n",
       "      <td>1</td>\n",
       "    </tr>\n",
       "    <tr>\n",
       "      <td>Bahia</td>\n",
       "      <td>1</td>\n",
       "    </tr>\n",
       "    <tr>\n",
       "      <td>Oeste</td>\n",
       "      <td>8053</td>\n",
       "    </tr>\n",
       "    <tr>\n",
       "      <td>Parana</td>\n",
       "      <td>1</td>\n",
       "    </tr>\n",
       "    <tr>\n",
       "      <td>Rio_Grande_do_Norte</td>\n",
       "      <td>1</td>\n",
       "    </tr>\n",
       "  </tbody>\n",
       "</table>\n",
       "<p>129 rows × 1 columns</p>\n",
       "</div>"
      ],
      "text/plain": [
       "                               Confirmed\n",
       "Country   Province/State                \n",
       "Argentina Buenos Aires               130\n",
       "          Buenos_Aires              3149\n",
       "          CABA                      1899\n",
       "          Catamarca                  212\n",
       "          Chaco                     1017\n",
       "...                                  ...\n",
       "Sul       Atlantico                    1\n",
       "          Bahia                        1\n",
       "          Oeste                     8053\n",
       "          Parana                       1\n",
       "          Rio_Grande_do_Norte          1\n",
       "\n",
       "[129 rows x 1 columns]"
      ]
     },
     "execution_count": 24,
     "metadata": {},
     "output_type": "execute_result"
    }
   ],
   "source": [
    "data_date_zika.groupby(['Country','Province/State']).sum()"
   ]
  },
  {
   "cell_type": "code",
   "execution_count": 25,
   "metadata": {},
   "outputs": [
    {
     "data": {
      "text/html": [
       "<div>\n",
       "<style scoped>\n",
       "    .dataframe tbody tr th:only-of-type {\n",
       "        vertical-align: middle;\n",
       "    }\n",
       "\n",
       "    .dataframe tbody tr th {\n",
       "        vertical-align: top;\n",
       "    }\n",
       "\n",
       "    .dataframe thead th {\n",
       "        text-align: right;\n",
       "    }\n",
       "</style>\n",
       "<table border=\"1\" class=\"dataframe\">\n",
       "  <thead>\n",
       "    <tr style=\"text-align: right;\">\n",
       "      <th></th>\n",
       "      <th>Last Update</th>\n",
       "      <th>Country</th>\n",
       "      <th>Province/State</th>\n",
       "      <th>Confirmed</th>\n",
       "    </tr>\n",
       "  </thead>\n",
       "  <tbody>\n",
       "    <tr>\n",
       "      <td>0</td>\n",
       "      <td>2016-03-19</td>\n",
       "      <td>Argentina</td>\n",
       "      <td>Buenos Aires</td>\n",
       "      <td>2</td>\n",
       "    </tr>\n",
       "    <tr>\n",
       "      <td>1</td>\n",
       "      <td>2016-03-19</td>\n",
       "      <td>Argentina</td>\n",
       "      <td>Buenos Aires</td>\n",
       "      <td>1</td>\n",
       "    </tr>\n",
       "    <tr>\n",
       "      <td>2</td>\n",
       "      <td>2016-03-19</td>\n",
       "      <td>Argentina</td>\n",
       "      <td>Buenos Aires</td>\n",
       "      <td>127</td>\n",
       "    </tr>\n",
       "    <tr>\n",
       "      <td>3</td>\n",
       "      <td>2016-03-19</td>\n",
       "      <td>Argentina</td>\n",
       "      <td>CABA</td>\n",
       "      <td>9</td>\n",
       "    </tr>\n",
       "    <tr>\n",
       "      <td>4</td>\n",
       "      <td>2016-03-19</td>\n",
       "      <td>Argentina</td>\n",
       "      <td>CABA</td>\n",
       "      <td>68</td>\n",
       "    </tr>\n",
       "    <tr>\n",
       "      <td>...</td>\n",
       "      <td>...</td>\n",
       "      <td>...</td>\n",
       "      <td>...</td>\n",
       "      <td>...</td>\n",
       "    </tr>\n",
       "    <tr>\n",
       "      <td>567</td>\n",
       "      <td>2016-06-26</td>\n",
       "      <td>Argentina</td>\n",
       "      <td>Sgo_Del_Estero</td>\n",
       "      <td>6</td>\n",
       "    </tr>\n",
       "    <tr>\n",
       "      <td>568</td>\n",
       "      <td>2016-06-26</td>\n",
       "      <td>Argentina</td>\n",
       "      <td>Tucuman</td>\n",
       "      <td>22</td>\n",
       "    </tr>\n",
       "    <tr>\n",
       "      <td>569</td>\n",
       "      <td>2016-06-26</td>\n",
       "      <td>Argentina</td>\n",
       "      <td>Tucuman</td>\n",
       "      <td>9</td>\n",
       "    </tr>\n",
       "    <tr>\n",
       "      <td>570</td>\n",
       "      <td>2016-06-26</td>\n",
       "      <td>Argentina</td>\n",
       "      <td>Tucuman</td>\n",
       "      <td>65</td>\n",
       "    </tr>\n",
       "    <tr>\n",
       "      <td>571</td>\n",
       "      <td>2016-06-26</td>\n",
       "      <td>Argentina</td>\n",
       "      <td>Tucuman</td>\n",
       "      <td>3</td>\n",
       "    </tr>\n",
       "  </tbody>\n",
       "</table>\n",
       "<p>572 rows × 4 columns</p>\n",
       "</div>"
      ],
      "text/plain": [
       "    Last Update    Country  Province/State  Confirmed\n",
       "0    2016-03-19  Argentina    Buenos Aires          2\n",
       "1    2016-03-19  Argentina    Buenos Aires          1\n",
       "2    2016-03-19  Argentina    Buenos Aires        127\n",
       "3    2016-03-19  Argentina            CABA          9\n",
       "4    2016-03-19  Argentina            CABA         68\n",
       "..          ...        ...             ...        ...\n",
       "567  2016-06-26  Argentina  Sgo_Del_Estero          6\n",
       "568  2016-06-26  Argentina         Tucuman         22\n",
       "569  2016-06-26  Argentina         Tucuman          9\n",
       "570  2016-06-26  Argentina         Tucuman         65\n",
       "571  2016-06-26  Argentina         Tucuman          3\n",
       "\n",
       "[572 rows x 4 columns]"
      ]
     },
     "execution_count": 25,
     "metadata": {},
     "output_type": "execute_result"
    }
   ],
   "source": [
    "Argentina = data_date_zika[data_date_zika['Country']=='Argentina']\n",
    "Argentina"
   ]
  },
  {
   "cell_type": "code",
   "execution_count": 22,
   "metadata": {},
   "outputs": [
    {
     "data": {
      "image/png": "[encoded data removed]",
      "text/plain": [
       "<Figure size 864x576 with 1 Axes>"
      ]
     },
     "metadata": {
      "image/png": {
       "height": 484,
       "width": 773
      },
      "needs_background": "light"
     },
     "output_type": "display_data"
    }
   ],
   "source": [
    "f, ax = plt.subplots(figsize=(12, 8))\n",
    "\n",
    "sns.set_color_codes(\"pastel\")\n",
    "sns.barplot(x=\"Confirmed\", y=\"Province/State\", data=Argentina[1:],\n",
    "            label=\"Confirmed\", color=\"r\")\n",
    "\n",
    "\n",
    "ax.legend(ncol=2, loc=\"lower right\", frameon=True)\n",
    "ax.set(xlim=(0, 24), ylabel=\"\",\n",
    "       xlabel=\"Stats\")\n",
    "sns.despine(left=True, bottom=True)"
   ]
  },
  {
   "cell_type": "code",
   "execution_count": null,
   "metadata": {},
   "outputs": [],
   "source": []
  },
  {
   "cell_type": "code",
   "execution_count": null,
   "metadata": {},
   "outputs": [],
   "source": []
  },
  {
   "cell_type": "code",
   "execution_count": null,
   "metadata": {},
   "outputs": [],
   "source": []
  },
  {
   "cell_type": "code",
   "execution_count": null,
   "metadata": {},
   "outputs": [],
   "source": []
  }
 ],
 "metadata": {
  "kernelspec": {
   "display_name": "Python 3",
   "language": "python",
   "name": "python3"
  },
  "language_info": {
   "codemirror_mode": {
    "name": "ipython",
    "version": 3
   },
   "file_extension": ".py",
   "mimetype": "text/x-python",
   "name": "python",
   "nbconvert_exporter": "python",
   "pygments_lexer": "ipython3",
   "version": "3.6.9"
  }
 },
 "nbformat": 4,
 "nbformat_minor": 2
}
